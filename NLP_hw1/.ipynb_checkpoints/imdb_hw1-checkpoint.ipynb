{
 "cells": [
  {
   "cell_type": "code",
   "execution_count": 1,
   "metadata": {},
   "outputs": [
    {
     "name": "stdout",
     "output_type": "stream",
     "text": [
      "\u001b[32m\u001b[1m  Updating\u001b[22m\u001b[39m registry at `~/.julia/registries/General`\n",
      "\u001b[32m\u001b[1m  Updating\u001b[22m\u001b[39m git-repo `https://github.com/JuliaRegistries/General.git`\n",
      "\u001b[?25l\u001b[2K\u001b[?25h\u001b[32m\u001b[1m Resolving\u001b[22m\u001b[39m package versions...\n",
      "\u001b[32m\u001b[1m  Updating\u001b[22m\u001b[39m `~/.julia/environments/v1.1/Project.toml`\n",
      "\u001b[90m [no changes]\u001b[39m\n",
      "\u001b[32m\u001b[1m  Updating\u001b[22m\u001b[39m `~/.julia/environments/v1.1/Manifest.toml`\n",
      "\u001b[90m [no changes]\u001b[39m\n"
     ]
    }
   ],
   "source": [
    "import Pkg; Pkg.add(\"DelimitedFiles\"); using DelimitedFiles;"
   ]
  },
  {
   "cell_type": "code",
   "execution_count": 2,
   "metadata": {},
   "outputs": [
    {
     "data": {
      "text/plain": [
       "tokenize (generic function with 1 method)"
      ]
     },
     "execution_count": 2,
     "metadata": {},
     "output_type": "execute_result"
    }
   ],
   "source": [
    "function tokenize(str)\n",
    "    out = []\n",
    "    str = split(str)\n",
    "    symbols = ['(', ':',';',',', ')', '.', '?', '!']\n",
    "    finish_symbols = [')', ',', '.']\n",
    "    bad_strings = [\"<br\", \"/><br\", \"/>\", \"/><br\", \".<br\", \"\\\"\", \"...\"]\n",
    "    for word in str \n",
    "        f = true\n",
    "        word = lowercase(word)\n",
    "        put_symbols = []\n",
    "        for symbol in symbols\n",
    "            if occursin(string(symbol), word); word = strip(word, [symbol]); push!(put_symbols, symbol); f=false; end;\n",
    "        end\n",
    "        for bad in bad_strings\n",
    "            if occursin(bad, word); word = replace(word, bad=>\"\"); f=false; break; end\n",
    "        end\n",
    "        for s in put_symbols\n",
    "            if !(s in finish_symbols); push!(out, s); end\n",
    "        end\n",
    "        push!(out, word)\n",
    "        for s in put_symbols\n",
    "            if (s in finish_symbols); push!(out, s); end\n",
    "        end\n",
    "    end\n",
    "    #remove zero-length strings\n",
    "    out = [word for word in out if length(word) > 0]\n",
    "end"
   ]
  },
  {
   "cell_type": "code",
   "execution_count": 3,
   "metadata": {},
   "outputs": [
    {
     "data": {
      "text/plain": [
       "12500"
      ]
     },
     "execution_count": 3,
     "metadata": {},
     "output_type": "execute_result"
    }
   ],
   "source": [
    "train_pos_path = \"/Users/egeersu/Desktop/NLP/hw1/aclImdb/train/pos\"\n",
    "train_pos_files = readdir(train_pos_path)\n",
    "train_x_pos = []\n",
    "\n",
    "for file in train_pos_files\n",
    "    file_path = train_pos_path * '/' * file\n",
    "    io = open(file_path, \"r\")\n",
    "    review = readlines(io)[1]\n",
    "    push!(train_x_pos, review)\n",
    "    close(io)\n",
    "end\n",
    "\n",
    "train_x_pos = tokenize.(train_x_pos)\n",
    "train_pos = [(t,1) for t in train_x_pos]\n",
    "length(train_pos)"
   ]
  },
  {
   "cell_type": "code",
   "execution_count": 4,
   "metadata": {},
   "outputs": [
    {
     "data": {
      "text/plain": [
       "12500"
      ]
     },
     "execution_count": 4,
     "metadata": {},
     "output_type": "execute_result"
    }
   ],
   "source": [
    "train_neg_path = \"/Users/egeersu/Desktop/NLP/hw1/aclImdb/train/neg\"\n",
    "train_neg_files = readdir(train_neg_path)\n",
    "train_x_neg = []\n",
    "\n",
    "for file in train_neg_files\n",
    "    file_path = train_neg_path * '/' * file\n",
    "    io = open(file_path, \"r\")\n",
    "    review = readlines(io)[1]\n",
    "    push!(train_x_neg, review)\n",
    "    close(io)\n",
    "end\n",
    "\n",
    "train_x_neg = tokenize.(train_x_neg)\n",
    "train_neg = [(t,1) for t in train_x_neg]\n",
    "length(train_neg)"
   ]
  },
  {
   "cell_type": "code",
   "execution_count": 5,
   "metadata": {},
   "outputs": [
    {
     "data": {
      "text/plain": [
       "12500"
      ]
     },
     "execution_count": 5,
     "metadata": {},
     "output_type": "execute_result"
    }
   ],
   "source": [
    "test_pos_path = \"/Users/egeersu/Desktop/NLP/hw1/aclImdb/test/pos\"\n",
    "test_pos_files = readdir(test_pos_path)\n",
    "test_x_pos = []\n",
    "\n",
    "for file in test_pos_files\n",
    "    file_path = test_pos_path * '/' * file\n",
    "    io = open(file_path, \"r\")\n",
    "    review = readlines(io)[1]\n",
    "    push!(test_x_pos, review)\n",
    "    close(io)\n",
    "end\n",
    "\n",
    "test_x_pos = tokenize.(test_x_pos)\n",
    "test_pos = [(t,1) for t in test_x_pos]\n",
    "length(test_pos)"
   ]
  },
  {
   "cell_type": "code",
   "execution_count": 6,
   "metadata": {},
   "outputs": [
    {
     "data": {
      "text/plain": [
       "12500"
      ]
     },
     "execution_count": 6,
     "metadata": {},
     "output_type": "execute_result"
    }
   ],
   "source": [
    "test_neg_path = \"/Users/egeersu/Desktop/NLP/hw1/aclImdb/test/neg\"\n",
    "test_neg_files = readdir(test_neg_path)\n",
    "test_x_neg = []\n",
    "\n",
    "for file in test_neg_files\n",
    "    file_path = test_neg_path * '/' * file\n",
    "    io = open(file_path, \"r\")\n",
    "    review = readlines(io)[1]\n",
    "    push!(test_x_neg, review)\n",
    "    close(io)\n",
    "end\n",
    "\n",
    "test_x_neg = tokenize.(test_x_neg)\n",
    "test_neg = [(t,1) for t in test_x_neg]\n",
    "length(test_neg)"
   ]
  },
  {
   "cell_type": "markdown",
   "metadata": {},
   "source": [
    "**Positive Count**"
   ]
  },
  {
   "cell_type": "code",
   "execution_count": 7,
   "metadata": {},
   "outputs": [
    {
     "data": {
      "text/plain": [
       "(\"Total number of words: \", 3303288)"
      ]
     },
     "execution_count": 7,
     "metadata": {},
     "output_type": "execute_result"
    }
   ],
   "source": [
    "#count the number of times each word appears in train_data\n",
    "pos_counter = Dict()\n",
    "for t in train_pos\n",
    "    for word in t[1]\n",
    "        if word in keys(pos_counter); pos_counter[word] += 1; else; pos_counter[word] = 1; end\n",
    "    end\n",
    "end\n",
    "\n",
    "total_pos = 0\n",
    "for k in keys(pos_counter); total_pos += pos_counter[k]; end\n",
    "\"Total number of words: \", total_pos"
   ]
  },
  {
   "cell_type": "code",
   "execution_count": 8,
   "metadata": {},
   "outputs": [],
   "source": [
    "for (k,v) in pos_counter \n",
    "    if v < 2; delete!(pos_counter, k); end\n",
    "end"
   ]
  },
  {
   "cell_type": "markdown",
   "metadata": {},
   "source": [
    "**Negative Count**"
   ]
  },
  {
   "cell_type": "code",
   "execution_count": 9,
   "metadata": {},
   "outputs": [
    {
     "data": {
      "text/plain": [
       "(\"Total number of words: \", 3222796)"
      ]
     },
     "execution_count": 9,
     "metadata": {},
     "output_type": "execute_result"
    }
   ],
   "source": [
    "#count the number of times each word appears in train_data\n",
    "neg_counter = Dict()\n",
    "for t in train_neg\n",
    "    for word in t[1]\n",
    "        if word in keys(neg_counter); neg_counter[word] += 1; else; neg_counter[word] = 1; end\n",
    "    end\n",
    "end\n",
    "\n",
    "total_neg = 0\n",
    "for k in keys(neg_counter); total_neg += neg_counter[k]; end\n",
    "\"Total number of words: \", total_neg"
   ]
  },
  {
   "cell_type": "code",
   "execution_count": 10,
   "metadata": {},
   "outputs": [],
   "source": [
    "for (k,v) in neg_counter \n",
    "    if v < 2; delete!(neg_counter, k); end\n",
    "end"
   ]
  },
  {
   "cell_type": "markdown",
   "metadata": {},
   "source": [
    "**Naive Bayes Model**"
   ]
  },
  {
   "cell_type": "code",
   "execution_count": 11,
   "metadata": {},
   "outputs": [
    {
     "data": {
      "text/plain": [
       "predict (generic function with 1 method)"
      ]
     },
     "execution_count": 11,
     "metadata": {},
     "output_type": "execute_result"
    }
   ],
   "source": [
    "function predict_positive(x)\n",
    "    product = log(0.5)\n",
    "    for token in x; product += log(lookup_count(token, pos_counter) / total_pos); end\n",
    "    product\n",
    "end\n",
    "\n",
    "function predict_negative(x)\n",
    "    product = log(0.5)\n",
    "    for token in x; product += log(lookup_count(token, neg_counter) / total_neg); end\n",
    "    product\n",
    "end\n",
    "\n",
    "function predict(x)\n",
    "    if predict_negative(x) < predict_positive(x); \"positive\"; else; \"negative\"; end\n",
    "end"
   ]
  },
  {
   "cell_type": "code",
   "execution_count": 12,
   "metadata": {},
   "outputs": [
    {
     "data": {
      "text/plain": [
       "lookup_count (generic function with 1 method)"
      ]
     },
     "execution_count": 12,
     "metadata": {},
     "output_type": "execute_result"
    }
   ],
   "source": [
    "function lookup_count(token, counter); if token in keys(counter); return counter[token]; else; return 1; end; end"
   ]
  },
  {
   "cell_type": "markdown",
   "metadata": {},
   "source": [
    "**Accuracy**"
   ]
  },
  {
   "cell_type": "code",
   "execution_count": 13,
   "metadata": {},
   "outputs": [
    {
     "data": {
      "text/plain": [
       "0.89608"
      ]
     },
     "execution_count": 13,
     "metadata": {},
     "output_type": "execute_result"
    }
   ],
   "source": [
    "#Train Accuracy\n",
    "total = 0\n",
    "correct = 0\n",
    "for x in train_x_neg\n",
    "    total += 1\n",
    "    if predict(x) == \"negative\"; correct += 1; end\n",
    "end\n",
    "for x in train_x_pos\n",
    "    total += 1\n",
    "    if predict(x) == \"positive\"; correct += 1; end\n",
    "end\n",
    "\n",
    "accuracy_train = correct/total"
   ]
  },
  {
   "cell_type": "code",
   "execution_count": 14,
   "metadata": {},
   "outputs": [
    {
     "data": {
      "text/plain": [
       "0.81388"
      ]
     },
     "execution_count": 14,
     "metadata": {},
     "output_type": "execute_result"
    }
   ],
   "source": [
    "#Test Accuracy\n",
    "total = 0\n",
    "correct = 0\n",
    "for x in test_x_neg\n",
    "    total += 1\n",
    "    if predict(x) == \"negative\"; correct += 1; end\n",
    "end\n",
    "for x in test_x_pos\n",
    "    total += 1\n",
    "    if predict(x) == \"positive\"; correct += 1; end\n",
    "end\n",
    "\n",
    "accuracy_test = correct / total"
   ]
  }
 ],
 "metadata": {
  "kernelspec": {
   "display_name": "Julia 1.1.0",
   "language": "julia",
   "name": "julia-1.1"
  },
  "language_info": {
   "file_extension": ".jl",
   "mimetype": "application/julia",
   "name": "julia",
   "version": "1.1.0"
  }
 },
 "nbformat": 4,
 "nbformat_minor": 2
}
