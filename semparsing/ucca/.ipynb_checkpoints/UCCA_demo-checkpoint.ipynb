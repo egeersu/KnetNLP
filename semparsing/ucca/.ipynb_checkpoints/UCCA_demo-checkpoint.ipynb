{
 "cells": [
  {
   "cell_type": "markdown",
   "metadata": {},
   "source": [
    "# Universal Conceptual Cognitive Annotation (UCCA)\n",
    "\n",
    "##### paper: https://www.aclweb.org/anthology/P17-1104/\n",
    "##### to parse your own inputs please download weights: https://github.com/huji-nlp/tupa/releases/download/v1.3.9/ucca-bilstm-1.3.9.tar.gz\n",
    "##### The directory has 5 sample outputs in json format."
   ]
  },
  {
   "cell_type": "code",
   "execution_count": 1,
   "metadata": {},
   "outputs": [
    {
     "name": "stdout",
     "output_type": "stream",
     "text": [
      "\u001b[32m\u001b[1m  Updating\u001b[22m\u001b[39m registry at `~/.julia/registries/General`\n",
      "\u001b[32m\u001b[1m  Updating\u001b[22m\u001b[39m git-repo `https://github.com/JuliaRegistries/General.git`\n",
      "\u001b[?25l\u001b[2K\u001b[?25h\u001b[32m\u001b[1m Resolving\u001b[22m\u001b[39m package versions...\n",
      "\u001b[32m\u001b[1m  Updating\u001b[22m\u001b[39m `~/.julia/environments/v1.2/Project.toml`\n",
      "\u001b[90m [no changes]\u001b[39m\n",
      "\u001b[32m\u001b[1m  Updating\u001b[22m\u001b[39m `~/.julia/environments/v1.2/Manifest.toml`\n",
      "\u001b[90m [no changes]\u001b[39m\n",
      "\u001b[32m\u001b[1m Resolving\u001b[22m\u001b[39m package versions...\n",
      "\u001b[32m\u001b[1m  Updating\u001b[22m\u001b[39m `~/.julia/environments/v1.2/Project.toml`\n",
      "\u001b[90m [no changes]\u001b[39m\n",
      "\u001b[32m\u001b[1m  Updating\u001b[22m\u001b[39m `~/.julia/environments/v1.2/Manifest.toml`\n",
      "\u001b[90m [no changes]\u001b[39m\n",
      "\u001b[32m\u001b[1m Resolving\u001b[22m\u001b[39m package versions...\n",
      "\u001b[32m\u001b[1m  Updating\u001b[22m\u001b[39m `~/.julia/environments/v1.2/Project.toml`\n",
      "\u001b[90m [no changes]\u001b[39m\n",
      "\u001b[32m\u001b[1m  Updating\u001b[22m\u001b[39m `~/.julia/environments/v1.2/Manifest.toml`\n",
      "\u001b[90m [no changes]\u001b[39m\n",
      "\u001b[32m\u001b[1m Resolving\u001b[22m\u001b[39m package versions...\n",
      "\u001b[32m\u001b[1m  Updating\u001b[22m\u001b[39m `~/.julia/environments/v1.2/Project.toml`\n",
      "\u001b[90m [no changes]\u001b[39m\n",
      "\u001b[32m\u001b[1m  Updating\u001b[22m\u001b[39m `~/.julia/environments/v1.2/Manifest.toml`\n",
      "\u001b[90m [no changes]\u001b[39m\n"
     ]
    }
   ],
   "source": [
    "include(\"model_output.jl\");\n",
    "include(\"ucca_graph.jl\");"
   ]
  },
  {
   "cell_type": "markdown",
   "metadata": {},
   "source": [
    "## Create the UCCA Graph"
   ]
  },
  {
   "cell_type": "code",
   "execution_count": 12,
   "metadata": {},
   "outputs": [],
   "source": [
    "file_path = \"/Users/egeersu/Desktop/semparsing/ucca/outs/out3.json\"\n",
    "graph = UCCA_graph(file_path);"
   ]
  },
  {
   "cell_type": "code",
   "execution_count": 13,
   "metadata": {},
   "outputs": [
    {
     "data": {
      "text/plain": [
       "\"Miray 's final took 3 hours to complete , she is really tired and annoying right now . \""
      ]
     },
     "execution_count": 13,
     "metadata": {},
     "output_type": "execute_result"
    }
   ],
   "source": [
    "graph.sentence"
   ]
  },
  {
   "cell_type": "code",
   "execution_count": 14,
   "metadata": {},
   "outputs": [
    {
     "data": {
      "text/plain": [
       "Dict{Any,Any} with 18 entries:\n",
       "  18 => \".\"\n",
       "  2  => \"'s\"\n",
       "  16 => \"right\"\n",
       "  11 => \"is\"\n",
       "  7  => \"to\"\n",
       "  9  => \",\"\n",
       "  10 => \"she\"\n",
       "  17 => \"now\"\n",
       "  8  => \"complete\"\n",
       "  6  => \"hours\"\n",
       "  4  => \"took\"\n",
       "  3  => \"final\"\n",
       "  5  => \"3\"\n",
       "  13 => \"tired\"\n",
       "  14 => \"and\"\n",
       "  15 => \"annoying\"\n",
       "  12 => \"really\"\n",
       "  1  => \"Miray\""
      ]
     },
     "execution_count": 14,
     "metadata": {},
     "output_type": "execute_result"
    }
   ],
   "source": [
    "graph.tokens"
   ]
  },
  {
   "cell_type": "code",
   "execution_count": 15,
   "metadata": {},
   "outputs": [
    {
     "data": {
      "text/plain": [
       "53-element Array{Any,1}:\n",
       " (\"Parallel Scene\", 1, 1)  \n",
       " (\"Parallel Scene\", 1, 1)  \n",
       " (\"Parallel Scene\", 1, 1)  \n",
       " (\"Parallel Scene\", 1, 1)  \n",
       " (\"Parallel Scene\", 1, 1)  \n",
       " (\"Parallel Scene\", 1, 1)  \n",
       " (\"Parallel Scene\", 1, 1)  \n",
       " (\"Parallel Scene\", 1, 1)  \n",
       " (\"Parallel Scene\", 1, 1)  \n",
       " (\"Parallel Scene\", 1, 1)  \n",
       " (\"Parallel Scene\", 1, 1)  \n",
       " (\"Parallel Scene\", 1, 1)  \n",
       " (\"Parallel Scene\", 1, 1)  \n",
       " ⋮                         \n",
       " (\"Participant\", 11, 7)    \n",
       " (\"Participant\", 11, 7)    \n",
       " (\"Participant\", 11, 7)    \n",
       " (\"Function\", 12, 7)       \n",
       " (\"State\", 13, 8)          \n",
       " (\"Parallel Scene\", 14, 10)\n",
       " (\"Parallel Scene\", 14, 10)\n",
       " (\"Parallel Scene\", 14, 10)\n",
       " (\"Parallel Scene\", 14, 10)\n",
       " (\"Participant\", 15, 10)   \n",
       " (\"State\", 16, 11)         \n",
       " (\"Adverbial\", 17, 12)     "
      ]
     },
     "execution_count": 15,
     "metadata": {},
     "output_type": "execute_result"
    }
   ],
   "source": [
    "graph.annotations"
   ]
  },
  {
   "cell_type": "code",
   "execution_count": 16,
   "metadata": {},
   "outputs": [
    {
     "data": {
      "text/plain": [
       "1-element Array{Any,1}:\n",
       " (\"Function\", 12, \"really\", 7, \"to\")"
      ]
     },
     "execution_count": 16,
     "metadata": {},
     "output_type": "execute_result"
    }
   ],
   "source": [
    "get_relations(graph, 12)"
   ]
  },
  {
   "cell_type": "code",
   "execution_count": 17,
   "metadata": {},
   "outputs": [
    {
     "data": {
      "text/plain": [
       "1-element Array{Any,1}:\n",
       " (\"State\", 13, \"tired\", 8, \"complete\")"
      ]
     },
     "execution_count": 17,
     "metadata": {},
     "output_type": "execute_result"
    }
   ],
   "source": [
    "get_relations(graph, 13)"
   ]
  },
  {
   "cell_type": "code",
   "execution_count": 18,
   "metadata": {},
   "outputs": [
    {
     "data": {
      "text/plain": [
       "1-element Array{Any,1}:\n",
       " (\"Participant\", 15, \"annoying\", 10, \"she\")"
      ]
     },
     "execution_count": 18,
     "metadata": {},
     "output_type": "execute_result"
    }
   ],
   "source": [
    "get_relations(graph, 15)"
   ]
  },
  {
   "cell_type": "code",
   "execution_count": 19,
   "metadata": {},
   "outputs": [
    {
     "data": {
      "text/plain": [
       "1-element Array{Any,1}:\n",
       " (\"State\", 16, \"right\", 11, \"is\")"
      ]
     },
     "execution_count": 19,
     "metadata": {},
     "output_type": "execute_result"
    }
   ],
   "source": [
    "get_relations(graph, 16)"
   ]
  },
  {
   "cell_type": "markdown",
   "metadata": {},
   "source": [
    "### another sentence"
   ]
  },
  {
   "cell_type": "code",
   "execution_count": 35,
   "metadata": {},
   "outputs": [],
   "source": [
    "file_path = \"/Users/egeersu/Desktop/semparsing/ucca/outs/out4.json\"\n",
    "graph = UCCA_graph(file_path);"
   ]
  },
  {
   "cell_type": "code",
   "execution_count": 36,
   "metadata": {},
   "outputs": [
    {
     "data": {
      "text/plain": [
       "\"Ege picked a terrible partner so he has to do all the projects on his own . \""
      ]
     },
     "execution_count": 36,
     "metadata": {},
     "output_type": "execute_result"
    }
   ],
   "source": [
    "graph.sentence"
   ]
  },
  {
   "cell_type": "code",
   "execution_count": 37,
   "metadata": {},
   "outputs": [
    {
     "data": {
      "text/plain": [
       "1-element Array{Any,1}:\n",
       " (\"Participant\", 2, \"picked\", 1, \"Ege\")"
      ]
     },
     "execution_count": 37,
     "metadata": {},
     "output_type": "execute_result"
    }
   ],
   "source": [
    "get_relations(graph, 2)"
   ]
  },
  {
   "cell_type": "code",
   "execution_count": 38,
   "metadata": {},
   "outputs": [
    {
     "data": {
      "text/plain": [
       "1-element Array{Any,1}:\n",
       " (\"Elaborator\", 5, \"partner\", 3, \"a\")"
      ]
     },
     "execution_count": 38,
     "metadata": {},
     "output_type": "execute_result"
    }
   ],
   "source": [
    "get_relations(graph, 5)"
   ]
  }
 ],
 "metadata": {
  "kernelspec": {
   "display_name": "Julia 1.2.0",
   "language": "julia",
   "name": "julia-1.2"
  },
  "language_info": {
   "file_extension": ".jl",
   "mimetype": "application/julia",
   "name": "julia",
   "version": "1.2.0"
  }
 },
 "nbformat": 4,
 "nbformat_minor": 2
}
